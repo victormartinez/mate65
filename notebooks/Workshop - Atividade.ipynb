{
 "cells": [
  {
   "cell_type": "markdown",
   "id": "663b2858",
   "metadata": {},
   "source": [
    "## Workshop Surprise - Atividade"
   ]
  },
  {
   "cell_type": "markdown",
   "id": "ea294289",
   "metadata": {},
   "source": [
    "> Vamos a atividade. Já temos aqui todas as bibliotecas que você vai precisar mas sinta-se à vontade para utilizar o que você achar melhor."
   ]
  },
  {
   "cell_type": "code",
   "execution_count": 3,
   "id": "changing-network",
   "metadata": {},
   "outputs": [],
   "source": [
    "import pandas as pd\n",
    "import numpy as np\n",
    "\n",
    "from surprise import SVD\n",
    "from surprise import accuracy, Dataset\n",
    "from surprise.model_selection import cross_validate, train_test_split"
   ]
  },
  {
   "cell_type": "markdown",
   "id": "aad4a62e",
   "metadata": {},
   "source": [
    "> ## Agora que você já viu como foi feito o procedimento, siga os passos abaixo: ##\n",
    ">\n",
    "> **1. Carregue o dataset do movielens.**\n",
    "> \n",
    "> **2. Transforme em uma matriz R.**\n",
    "> \n",
    "> **3. Escolha um id de usuário aleatório.**\n",
    "> \n",
    "> **4. Para quais filmes esse usuário deu nota? (Apresente apenas os ids)**\n",
    "> \n",
    "> **5. Para quais filmes esse usuário não deu nota? (Apresente apenas os ids)**\n",
    "> \n",
    "> **6. Quantos % dos filmes esse usuário deu nota?**\n",
    "> \n",
    "> **7. Apresente os títulos dos filmes que esse usuário deu nota.**\n",
    "> \n",
    "> **8. Escolha um modelo de recomendação. Pode ser o SVD fique livre para escolher o que achar melhor (vide https://surprise.readthedocs.io/en/stable/prediction_algorithms_package.html)**\n",
    "> \n",
    "> **9. Treine o modelo**\n",
    "> \n",
    "> **10. Liste as predições**\n",
    "> \n",
    "> **11. Liste as recomendações**"
   ]
  }
 ],
 "metadata": {
  "kernelspec": {
   "display_name": "Python 3",
   "language": "python",
   "name": "python3"
  },
  "language_info": {
   "codemirror_mode": {
    "name": "ipython",
    "version": 3
   },
   "file_extension": ".py",
   "mimetype": "text/x-python",
   "name": "python",
   "nbconvert_exporter": "python",
   "pygments_lexer": "ipython3",
   "version": "3.7.10"
  }
 },
 "nbformat": 4,
 "nbformat_minor": 5
}
